{
 "cells": [
  {
   "cell_type": "markdown",
   "id": "forward-poison",
   "metadata": {},
   "source": [
    "### 1. Maximum Subarray\n",
    "- 합이 최대가 되는 연속 서브 배열을 찾아 합을 리턴하자\n",
    "- leetcode- max subarray question\n",
    "- memoization 통해 앞에서부터 값을 누적하며 합산 값을 계산.\n",
    "- 최대 합을 찾기에 0 이하 값은 버리고"
   ]
  },
  {
   "cell_type": "code",
   "execution_count": 2,
   "id": "radio-neighborhood",
   "metadata": {},
   "outputs": [],
   "source": [
    "# solution1\n",
    "import sys\n",
    "from typing import List\n",
    "\n",
    "def maxsub(self, nums: List[int]) -> int:\n",
    "    for i in range(1, len(nums)):\n",
    "        nums[i] += nums[i-1] if nums[i-1] >0 else 0\n",
    "    return max(nums)"
   ]
  },
  {
   "cell_type": "code",
   "execution_count": 3,
   "id": "frozen-input",
   "metadata": {},
   "outputs": [],
   "source": [
    "# solution2\n",
    "import sys\n",
    "from typing import List\n",
    "\n",
    "class solve:\n",
    "    def maxsub(self, nums: List[int]) -> int:\n",
    "        best_sum = -sys.maxsize\n",
    "        current_sum = 0\n",
    "        for num in nums:\n",
    "            current_sum = max(num, current_sum + num)\n",
    "            best_sum = max(best_sum, current_sum)\n",
    "\n",
    "        return best_sum"
   ]
  },
  {
   "cell_type": "code",
   "execution_count": null,
   "id": "quantitative-egypt",
   "metadata": {},
   "outputs": [],
   "source": []
  }
 ],
 "metadata": {
  "kernelspec": {
   "display_name": "Python 3",
   "language": "python",
   "name": "python3"
  },
  "language_info": {
   "codemirror_mode": {
    "name": "ipython",
    "version": 3
   },
   "file_extension": ".py",
   "mimetype": "text/x-python",
   "name": "python",
   "nbconvert_exporter": "python",
   "pygments_lexer": "ipython3",
   "version": "3.7.9"
  }
 },
 "nbformat": 4,
 "nbformat_minor": 5
}
