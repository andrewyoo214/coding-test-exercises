{
 "cells": [
  {
   "cell_type": "markdown",
   "id": "6e658a0f-4634-4639-84e0-2a7d162b6fb4",
   "metadata": {},
   "source": [
    "# Implementation"
   ]
  },
  {
   "cell_type": "markdown",
   "id": "134f93e4-a760-443a-af56-f862ec6cec10",
   "metadata": {},
   "source": [
    "## Up, Down, Left, Right"
   ]
  },
  {
   "cell_type": "markdown",
   "id": "b1e23498-596f-4e30-b114-0852db39c40f",
   "metadata": {},
   "source": [
    "* Input: N x N size space. (1<= N <= 100)\n",
    "* Input: Traveler A get movement plan. (1 <= movement_count <= 100)\n",
    "* Output: Destination location (x, y)"
   ]
  },
  {
   "cell_type": "code",
   "execution_count": null,
   "id": "8d25aaf2-5250-45e6-a626-8fd0f03f9438",
   "metadata": {},
   "outputs": [],
   "source": [
    "## setting initial input n\n",
    "n = int(input())\n",
    "x, y = 1, 1\n",
    "plans = input().split()\n",
    "\n",
    "\n",
    "## movement location\n",
    "dx = [0, 0, -1, 1]\n",
    "dy = [-1, 1, 0, 0]\n",
    "movement = ['L', 'R', 'U', 'D']\n",
    "\n",
    "## checking the movement plans\n",
    "for plan in plans:\n",
    "    for i in range(len(movement)):\n",
    "        if plan == movement[i]:\n",
    "            nx = x + dx[i]\n",
    "            ny = y + dy[i]\n",
    "    if nx <1 or ny < 1 or nx > n or ny > n:\n",
    "        continue\n",
    "    x, y = nx, ny\n",
    "\n",
    "print(x, y)"
   ]
  },
  {
   "cell_type": "code",
   "execution_count": null,
   "id": "76b18032-0c39-4e62-8246-0ef5c0694466",
   "metadata": {},
   "outputs": [],
   "source": []
  },
  {
   "cell_type": "markdown",
   "id": "a914be09-bb90-449f-a0e0-bd026d16b3ff",
   "metadata": {},
   "source": [
    "## Time"
   ]
  },
  {
   "cell_type": "markdown",
   "id": "2b403e56-1004-4265-ae4a-36f132f59290",
   "metadata": {},
   "source": [
    "* Input: "
   ]
  },
  {
   "cell_type": "code",
   "execution_count": null,
   "id": "c709b6e1-da12-4d7b-8f91-6280ff2df123",
   "metadata": {},
   "outputs": [],
   "source": []
  },
  {
   "cell_type": "code",
   "execution_count": null,
   "id": "09ef0057-c46a-4d26-8e67-5caef61920be",
   "metadata": {},
   "outputs": [],
   "source": []
  },
  {
   "cell_type": "code",
   "execution_count": null,
   "id": "4e26eda8-9a5e-46b5-84d9-5168fe49c24a",
   "metadata": {},
   "outputs": [],
   "source": []
  },
  {
   "cell_type": "code",
   "execution_count": null,
   "id": "9ae42874-c780-4d7e-962d-eacab7bec5d8",
   "metadata": {},
   "outputs": [],
   "source": []
  },
  {
   "cell_type": "code",
   "execution_count": null,
   "id": "3913abed-31a4-439a-bbde-ba1c50766e73",
   "metadata": {},
   "outputs": [],
   "source": []
  }
 ],
 "metadata": {
  "kernelspec": {
   "display_name": "Python 3 (ipykernel)",
   "language": "python",
   "name": "python3"
  },
  "language_info": {
   "codemirror_mode": {
    "name": "ipython",
    "version": 3
   },
   "file_extension": ".py",
   "mimetype": "text/x-python",
   "name": "python",
   "nbconvert_exporter": "python",
   "pygments_lexer": "ipython3",
   "version": "3.9.17"
  }
 },
 "nbformat": 4,
 "nbformat_minor": 5
}
