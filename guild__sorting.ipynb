{
 "cells": [
  {
   "cell_type": "markdown",
   "id": "baking-showcase",
   "metadata": {},
   "source": [
    "### 모험가 길드\n",
    "- n명의 모험가\n",
    "- 각 모험가의 '공포도'를 측정\n",
    "- 공포도 x인 모함가는 반드시 x명 이상으로 구성된 모험가 그룹에 참여해야 도전 가능\n",
    "- 도전할 수 있는 그룹 수의 최댓값을 출력\n",
    "- 단 모든 모험가를 특정 그룹에 넣어야 할 필요는 없음"
   ]
  },
  {
   "cell_type": "code",
   "execution_count": 8,
   "id": "fundamental-twist",
   "metadata": {},
   "outputs": [
    {
     "name": "stdout",
     "output_type": "stream",
     "text": [
      "5\n",
      "2 3 1 2 2\n",
      "2\n"
     ]
    }
   ],
   "source": [
    "#기본 입력값들\n",
    "n = int(input())\n",
    "x = list(map(int, input().split()))\n",
    "x.sort() #오름차순으로 정렬 해버리고 (최소값 볼 수 있으니까)\n",
    "\n",
    "#code\n",
    "group = 0 #그룹의 수\n",
    "num = 0 #그룹 내 포함된 인원 수\n",
    "\n",
    "for i in x: #모험가들에 대해서\n",
    "    num += 1 #그룹에 한명 들어오고\n",
    "    if num >= i: #만약에 그룹에 포함된 인원수가 지금 i값, 그러니까 공포도 이상이면\n",
    "        group += 1 #그룹이 결성되는거고\n",
    "        num = 0 #그룹내의 인원수는 초기화 시켜주고\n",
    "\n",
    "print(group)"
   ]
  },
  {
   "cell_type": "code",
   "execution_count": null,
   "id": "proof-training",
   "metadata": {},
   "outputs": [],
   "source": []
  }
 ],
 "metadata": {
  "kernelspec": {
   "display_name": "Python 3",
   "language": "python",
   "name": "python3"
  },
  "language_info": {
   "codemirror_mode": {
    "name": "ipython",
    "version": 3
   },
   "file_extension": ".py",
   "mimetype": "text/x-python",
   "name": "python",
   "nbconvert_exporter": "python",
   "pygments_lexer": "ipython3",
   "version": "3.7.9"
  }
 },
 "nbformat": 4,
 "nbformat_minor": 5
}
