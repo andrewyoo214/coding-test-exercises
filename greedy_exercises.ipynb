{
 "cells": [
  {
   "cell_type": "markdown",
   "metadata": {},
   "source": [
    "### 1. 모험가 길드\n",
    "- n명의 모험가\n",
    "- 각 모험가의 '공포도'를 측정\n",
    "- 공포도 x인 모함가는 반드시 x명 이상으로 구성된 모험가 그룹에 참여해야 도전 가능\n",
    "- 도전할 수 있는 그룹 수의 최댓값을 출력\n",
    "- 단 모든 모험가를 특정 그룹에 넣어야 할 필요는 없음"
   ]
  },
  {
   "cell_type": "code",
   "execution_count": 4,
   "metadata": {},
   "outputs": [
    {
     "name": "stdout",
     "output_type": "stream",
     "text": [
      "5\n",
      "2 3 1 2 2\n",
      "2\n"
     ]
    }
   ],
   "source": [
    "#기본 입력값들\n",
    "n = int(input())\n",
    "x = list(map(int, input().split()))\n",
    "x.sort() #오름차순으로 정렬 해버리고 (최소값 볼 수 있으니까)\n",
    "\n",
    "#code\n",
    "group = 0 #그룹의 수\n",
    "num = 0 #그룹 내 포함된 인원 수\n",
    "\n",
    "for i in x: #모험가들에 대해서\n",
    "    num += 1 #그룹에 한명 들어오고\n",
    "    if num >= i: #만약에 그룹에 포함된 인원수가 지금 i값, 그러니까 공포도 이상이면\n",
    "        group += 1 #그룹이 결성되는거고\n",
    "        num = 0 #그룹내의 인원수는 초기화 시켜주고\n",
    "\n",
    "print(group)"
   ]
  },
  {
   "cell_type": "markdown",
   "metadata": {},
   "source": [
    "### 2. 곱하기? 더하기?\n",
    "- 왼쪽부터 오른쪽까지 하나씩 모든 숫자를 확인하며 숫자 사이에 곱하기 혹은 더하기 연산자를 넣기\n",
    "- 가능한 경우의 수 중 가장 큰 수를 구하는 프로그램 작성"
   ]
  },
  {
   "cell_type": "code",
   "execution_count": 3,
   "metadata": {},
   "outputs": [
    {
     "name": "stdout",
     "output_type": "stream",
     "text": [
      "153483\n",
      "1728\n"
     ]
    }
   ],
   "source": [
    "data = input()\n",
    "\n",
    "result = int(data[0])\n",
    "\n",
    "for i in range(1, len(data)):\n",
    "    #0 이나 1이 앞뒤중에 있으면 당연히 곱하는 것보다는 더하는게 더 큰 수를 배출\n",
    "    num = int(data[i])\n",
    "    if num <= 1 or result <= 1:\n",
    "        result += num\n",
    "    else:\n",
    "        result *= num\n",
    "\n",
    "print(result)"
   ]
  },
  {
   "cell_type": "markdown",
   "metadata": {},
   "source": [
    "### 3. 뒤집기 ( baekjoon #1439 )\n",
    "- 0 과 1로만 구성되어 있는 1,000,000보다 작은 문자열\n",
    "- 1을 뒤집으면 0, 0을 뒤집으면 1 이 된다\n",
    "- 연속된 하나 이상의 숫자를 잡고 모두 뒤집는 것만 가능하다"
   ]
  },
  {
   "cell_type": "code",
   "execution_count": 5,
   "metadata": {},
   "outputs": [
    {
     "name": "stdout",
     "output_type": "stream",
     "text": [
      "00011100\n",
      "1\n"
     ]
    }
   ],
   "source": [
    "data = input()\n",
    "count0 = 0\n",
    "count1 = 1\n",
    "\n",
    "#우선 첫번째 원소에 대한 처리\n",
    "if data[0] == '1':\n",
    "    count0 += 1\n",
    "else:\n",
    "    count1 += 1\n",
    "    \n",
    "#두번째 원소부터 모든 원소를 확인해서 처리\n",
    "for i in range(len(data) -1):\n",
    "    if data[i]!= data[i+1]:\n",
    "        #다음 수에서 1로 바뀌는 경우\n",
    "        if data[i+1] == '1':\n",
    "            count0 += 1\n",
    "        #0으로 바뀌는 경우\n",
    "        else:\n",
    "            count1 += 1\n",
    "\n",
    "print(min(count0, count1))"
   ]
  },
  {
   "cell_type": "markdown",
   "metadata": {},
   "source": [
    "### 4. 만들 수 없는 금액\n",
    "- n개의 동전을 가지고 있음\n",
    "- 이를 이용하여 만들 수 없는 양의 정수 금액 중 최솟값 구하는 프로그램"
   ]
  },
  {
   "cell_type": "code",
   "execution_count": 7,
   "metadata": {},
   "outputs": [
    {
     "name": "stdout",
     "output_type": "stream",
     "text": [
      "5\n",
      "3 2 1 1 9\n",
      "8\n"
     ]
    }
   ],
   "source": [
    "n = int(input())\n",
    "data=list(map(int, input().split()))\n",
    "data.sort()\n",
    "\n",
    "#1부터 시작해야지. 목표 금액이 0이 될 수는 없으니까\n",
    "target = 1\n",
    "#만약에 타겟보다 커버리면 \n",
    "for x in data:\n",
    "    if target < x:#타겟 값을 만족시킬 수 없으니까\n",
    "        break #끊어주고\n",
    "    target += x #아니면 x를 더해서 타겟으로 새로 잡아보고\n",
    "\n",
    "print(target)"
   ]
  },
  {
   "cell_type": "markdown",
   "metadata": {},
   "source": [
    "### 5. 볼링공 고르기\n",
    "- A,B 두 사람이 볼링을 치고 서로 무게가 다른 볼링공 고르려 함\n",
    "- 총 N개의 볼링공. 무게가 적혀있고 번호는 1부터 순서대로 부여\n",
    "- 같은 무게가 있을 수 있지만 다른 공으로 체크됨\n",
    "- 두 사람이 볼링공을 고르는 경우의 수 구하는 프로그램"
   ]
  },
  {
   "cell_type": "code",
   "execution_count": 9,
   "metadata": {},
   "outputs": [
    {
     "name": "stdout",
     "output_type": "stream",
     "text": [
      "8 5\n",
      "1 5 4 3 2 4 5 2\n",
      "25\n"
     ]
    }
   ],
   "source": [
    "n, m = map(int, input().split())\n",
    "data = list(map(int, input().split()))\n",
    "\n",
    "# 볼링공 개수는 1000개 이하, 무게는 10까지\n",
    "array = [0] * 11 #11개의 리스트를 만들어준다\n",
    "\n",
    "for x in data:\n",
    "    #각 무게에 해당하는 볼링공 체크\n",
    "    array[x] += 1\n",
    "    \n",
    "result = 0\n",
    "#1부터 m(무게)까지 정리\n",
    "for i in range(1, m+1):\n",
    "    n -= array[i] \n",
    "    result += array[i] * n\n",
    "    \n",
    "print(result)"
   ]
  },
  {
   "cell_type": "code",
   "execution_count": null,
   "metadata": {},
   "outputs": [],
   "source": []
  }
 ],
 "metadata": {
  "kernelspec": {
   "display_name": "Python 3",
   "language": "python",
   "name": "python3"
  },
  "language_info": {
   "codemirror_mode": {
    "name": "ipython",
    "version": 3
   },
   "file_extension": ".py",
   "mimetype": "text/x-python",
   "name": "python",
   "nbconvert_exporter": "python",
   "pygments_lexer": "ipython3",
   "version": "3.7.4"
  }
 },
 "nbformat": 4,
 "nbformat_minor": 2
}
